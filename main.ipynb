{
 "cells": [
  {
   "cell_type": "code",
   "execution_count": 1,
   "metadata": {},
   "outputs": [],
   "source": [
    "from azure.identity import DefaultAzureCredential, ClientSecretCredential\n",
    "from azure.ai.ml import MLClient, Input\n",
    "from azure.ai.ml import command\n",
    "from azure.ai.ml.entities import Environment\n",
    "from azure.ai.ml.constants import AssetTypes"
   ]
  },
  {
   "cell_type": "code",
   "execution_count": 2,
   "metadata": {},
   "outputs": [],
   "source": [
    "aml_sub_id = ''\n",
    "aml_rg_name = ''\n",
    "aml_ws_name = ''"
   ]
  },
  {
   "cell_type": "code",
   "execution_count": 3,
   "metadata": {},
   "outputs": [],
   "source": [
    "experiment_env_vars = {\n",
    "    'LLM_NAME': 'Codestral-2501',\n",
    "    'CODE_GEN_ITERATIONS': '2',\n",
    "    'LLM_ENDPOINT_PATH': '',\n",
    "    'LLM_CREDENTIAL': '',\n",
    "    'LLM_TEMP': 0.5,\n",
    "    'LLM_TOP_P': 0.1\n",
    "}"
   ]
  },
  {
   "cell_type": "code",
   "execution_count": null,
   "metadata": {},
   "outputs": [],
   "source": [
    "credential = DefaultAzureCredential()\n",
    "\n",
    "ml_client = MLClient(\n",
    "    credential=credential,\n",
    "    subscription_id=aml_sub_id,\n",
    "    resource_group_name=aml_rg_name,\n",
    "    workspace_name=aml_ws_name,\n",
    ")"
   ]
  },
  {
   "cell_type": "code",
   "execution_count": null,
   "metadata": {},
   "outputs": [],
   "source": [
    "env_name = 'code-gen experiments'\n",
    "\n",
    "job_env = Environment(\n",
    "    name=env_name,\n",
    "    description='Custom AML environment for code-gen experiments',\n",
    "    tags={\n",
    "        'python': '3.10'\n",
    "    },\n",
    "    conda_file='./experiment_conda.yaml',\n",
    "    image='mcr.microsoft.com/azureml/curated/python-sdk-v2:25',\n",
    ")\n",
    "\n",
    "job_env = ml_client.environments.create_or_update(job_env)"
   ]
  },
  {
   "cell_type": "code",
   "execution_count": null,
   "metadata": {},
   "outputs": [],
   "source": [
    "job = command(\n",
    "    inputs= {\n",
    "        'test_cases_path': Input(path='./test_cases', type=AssetTypes.URI_FOLDER)\n",
    "    },\n",
    "    code='./experiment/',\n",
    "    command='python main.py --test_cases_path ${{inputs.test_cases_path}}',\n",
    "    environment=job_env,\n",
    "    environment_variables=experiment_env_vars,\n",
    "    experiment_name='code-gen with codebleu'\n",
    ")"
   ]
  },
  {
   "cell_type": "code",
   "execution_count": null,
   "metadata": {},
   "outputs": [],
   "source": [
    "ml_client.create_or_update(job)"
   ]
  }
 ],
 "metadata": {
  "kernelspec": {
   "display_name": "Python 3",
   "language": "python",
   "name": "python3"
  },
  "language_info": {
   "codemirror_mode": {
    "name": "ipython",
    "version": 3
   },
   "file_extension": ".py",
   "mimetype": "text/x-python",
   "name": "python",
   "nbconvert_exporter": "python",
   "pygments_lexer": "ipython3",
   "version": "3.12.8"
  }
 },
 "nbformat": 4,
 "nbformat_minor": 2
}
